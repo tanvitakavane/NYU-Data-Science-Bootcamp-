{
  "nbformat": 4,
  "nbformat_minor": 0,
  "metadata": {
    "colab": {
      "provenance": []
    },
    "kernelspec": {
      "name": "python3",
      "display_name": "Python 3"
    },
    "language_info": {
      "name": "python"
    }
  },
  "cells": [
    {
      "cell_type": "markdown",
      "source": [
        "Data Science Bootcamp week 1 Assignment\n",
        "\n",
        "Tanvi Takavane\n"
      ],
      "metadata": {
        "id": "Jp_S0iPJmBH5"
      }
    },
    {
      "cell_type": "markdown",
      "source": [
        "1.⁠ ⁠Display Fibonacci Series upto 10 terms"
      ],
      "metadata": {
        "id": "IpA_cKuYSwMf"
      }
    },
    {
      "cell_type": "code",
      "source": [
        "def fibonacci(n):\n",
        "    fib_series = [0, 1]\n",
        "    for _ in range(n - 2):\n",
        "        fib_series.append(fib_series[-1] + fib_series[-2])\n",
        "    return fib_series\n",
        "\n",
        "# Display Fibonacci series up to 10 terms\n",
        "n_terms = 10\n",
        "print(f\"Fibonacci Series up to {n_terms} terms: {fibonacci(n_terms)}\")\n"
      ],
      "metadata": {
        "colab": {
          "base_uri": "https://localhost:8080/"
        },
        "id": "1uEtE3JfS0UH",
        "outputId": "fce8af1c-e414-48b3-eae5-43f2fa79f17b"
      },
      "execution_count": 1,
      "outputs": [
        {
          "output_type": "stream",
          "name": "stdout",
          "text": [
            "Fibonacci Series up to 10 terms: [0, 1, 1, 2, 3, 5, 8, 13, 21, 34]\n"
          ]
        }
      ]
    },
    {
      "cell_type": "markdown",
      "source": [
        "2.⁠ ⁠Display numbers at the odd indices of a list"
      ],
      "metadata": {
        "id": "jYx_sFTTTYW2"
      }
    },
    {
      "cell_type": "code",
      "source": [
        "array = [1, 2, 3, 4, 5, 6, 7, 8, 9, 10]\n",
        "\n",
        "for i in range(len(array)):\n",
        "  if i%2!=0:\n",
        "    print(array[i])\n",
        "\n"
      ],
      "metadata": {
        "colab": {
          "base_uri": "https://localhost:8080/"
        },
        "id": "vBXK2liYUGOY",
        "outputId": "3f106e7e-0cbd-4183-e30f-60746cabedb5"
      },
      "execution_count": 2,
      "outputs": [
        {
          "output_type": "stream",
          "name": "stdout",
          "text": [
            "2\n",
            "4\n",
            "6\n",
            "8\n",
            "10\n"
          ]
        }
      ]
    },
    {
      "cell_type": "markdown",
      "source": [
        "3.⁠ ⁠⁠string = \"\"\"\n",
        "\n",
        "I have provided this text to provide tips on creating interesting paragraphs.\n",
        "\n",
        "First, start with a clear topic sentence that introduces the main idea.\n",
        "\n",
        "Then, support the topic sentence with specific details, examples, and evidence.\n",
        "\n",
        "Vary the sentence length and structure to keep the reader engaged.\n",
        "\n",
        "Finally, end with a strong concluding sentence that summarizes the main points.\n",
        "\n",
        "Remember, practice makes perfect!\n",
        "\n",
        "\"\"\"\n",
        "\n",
        "Your task is to count the number of different words in this text\n",
        "\n"
      ],
      "metadata": {
        "id": "hTlhddB3Uh7b"
      }
    },
    {
      "cell_type": "code",
      "source": [
        "string = \"\"\"\n",
        "I have provided this text to provide tips on creating interesting paragraphs.\n",
        "First, start with a clear topic sentence that introduces the main idea.\n",
        "Then, support the topic sentence with specific details, examples, and evidence.\n",
        "Vary the sentence length and structure to keep the reader engaged.\n",
        "Finally, end with a strong concluding sentence that summarizes the main points.\n",
        "Remember, practice makes perfect!\n",
        "\"\"\"\n",
        "\n",
        "string_list = string.split()\n",
        "number_of_words = 0\n",
        "for i in string_list:\n",
        "    number_of_words = number_of_words + 1\n",
        "print(f\"Number of diferent words in this text: {number_of_words}\")"
      ],
      "metadata": {
        "colab": {
          "base_uri": "https://localhost:8080/"
        },
        "id": "NlinMlrSVcoO",
        "outputId": "0e8aaac2-53aa-4e17-8de1-6c85463a8ae1"
      },
      "execution_count": 5,
      "outputs": [
        {
          "output_type": "stream",
          "name": "stdout",
          "text": [
            "Number of diferent words in this text: 62\n"
          ]
        }
      ]
    },
    {
      "cell_type": "markdown",
      "source": [
        "4.⁠ ⁠Write a function count_vowels(word) that takes a word as an argument and returns the number of vowels in the word"
      ],
      "metadata": {
        "id": "02mNSO1TXTot"
      }
    },
    {
      "cell_type": "code",
      "source": [
        "def count_vowels(word):\n",
        "    vowels = \"AEIOUaeiou\"  # Define vowels (both uppercase and lowercase)\n",
        "    return sum(1 for char in word if char in vowels)  # Count vowels in the word\n",
        "\n",
        "# Example\n",
        "word = \"Programming\"\n",
        "print(f\"Number of vowels in '{word}':\", count_vowels(word))\n"
      ],
      "metadata": {
        "colab": {
          "base_uri": "https://localhost:8080/"
        },
        "id": "PfXW83_7XUFn",
        "outputId": "e62ec313-9b64-45ae-b176-011aca49a862"
      },
      "execution_count": 6,
      "outputs": [
        {
          "output_type": "stream",
          "name": "stdout",
          "text": [
            "Number of vowels in 'Programming': 3\n"
          ]
        }
      ]
    },
    {
      "cell_type": "markdown",
      "source": [
        "5.⁠ ⁠Iterate through the following list of animals and print each one in all caps.\n",
        "\n",
        "animals=['tiger', 'elephant', 'monkey', 'zebra', 'panther']"
      ],
      "metadata": {
        "id": "yu_Jf3woXdhM"
      }
    },
    {
      "cell_type": "code",
      "source": [
        "animals = ['tiger', 'elephant', 'monkey', 'zebra', 'panther']\n",
        "\n",
        "# Iterate and print each animal in uppercase\n",
        "for animal in animals:\n",
        "    print(animal.upper())\n"
      ],
      "metadata": {
        "colab": {
          "base_uri": "https://localhost:8080/"
        },
        "id": "C626pLvbXh_r",
        "outputId": "0cb3a1f2-8dc7-4ffd-e462-c4eb5ed37ff9"
      },
      "execution_count": 7,
      "outputs": [
        {
          "output_type": "stream",
          "name": "stdout",
          "text": [
            "TIGER\n",
            "ELEPHANT\n",
            "MONKEY\n",
            "ZEBRA\n",
            "PANTHER\n"
          ]
        }
      ]
    },
    {
      "cell_type": "markdown",
      "source": [
        "6.⁠ ⁠Write a program that iterates from 1 to 20, printing each number and whether it's odd or even."
      ],
      "metadata": {
        "id": "syDLPV61XsFc"
      }
    },
    {
      "cell_type": "code",
      "source": [
        "# Iterate through numbers from 1 to 20\n",
        "for number in range(1, 21):\n",
        "    # For number 1, print that it's neither odd nor even\n",
        "    if number == 1:\n",
        "        print(f\"{number} is neither odd nor even\")\n",
        "        continue  # Skip further checks for number 1\n",
        "    # Check if the number is odd or even\n",
        "    if number % 2 == 0:\n",
        "        print(f\"{number} is Even\")\n",
        "    else:\n",
        "        print(f\"{number} is Odd\")\n",
        "\n"
      ],
      "metadata": {
        "colab": {
          "base_uri": "https://localhost:8080/"
        },
        "id": "ZLSy4WrAX73-",
        "outputId": "1fc0189d-34e3-485d-8544-805cfe0a12b7"
      },
      "execution_count": 10,
      "outputs": [
        {
          "output_type": "stream",
          "name": "stdout",
          "text": [
            "1 is neither odd nor even\n",
            "2 is Even\n",
            "3 is Odd\n",
            "4 is Even\n",
            "5 is Odd\n",
            "6 is Even\n",
            "7 is Odd\n",
            "8 is Even\n",
            "9 is Odd\n",
            "10 is Even\n",
            "11 is Odd\n",
            "12 is Even\n",
            "13 is Odd\n",
            "14 is Even\n",
            "15 is Odd\n",
            "16 is Even\n",
            "17 is Odd\n",
            "18 is Even\n",
            "19 is Odd\n",
            "20 is Even\n"
          ]
        }
      ]
    },
    {
      "cell_type": "markdown",
      "source": [
        "7.⁠ ⁠Write a function sum_of_integers(a, b) that takes two integers as input from the user and returns their sum."
      ],
      "metadata": {
        "id": "0805JuSJgQWf"
      }
    },
    {
      "cell_type": "code",
      "source": [
        "def sum_of_integers(a, b):\n",
        "    return a + b\n",
        "\n",
        "# Get input from the user\n",
        "a = int(input(\"Enter the first integer: \"))\n",
        "b = int(input(\"Enter the second integer: \"))\n",
        "\n",
        "# Call the function and display the result\n",
        "result = sum_of_integers(a, b)\n",
        "print(f\"The sum of {a} and {b} is: {result}\")\n"
      ],
      "metadata": {
        "colab": {
          "base_uri": "https://localhost:8080/"
        },
        "id": "s9atBetsgWxv",
        "outputId": "cf4ba113-2a80-4988-a7be-deb387381b9a"
      },
      "execution_count": 9,
      "outputs": [
        {
          "output_type": "stream",
          "name": "stdout",
          "text": [
            "Enter the first integer: 5\n",
            "Enter the second integer: 4\n",
            "The sum of 5 and 4 is: 9\n"
          ]
        }
      ]
    }
  ]
}